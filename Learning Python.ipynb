{
 "cells": [
  {
   "cell_type": "code",
   "execution_count": 2,
   "metadata": {},
   "outputs": [
    {
     "name": "stdout",
     "output_type": "stream",
     "text": [
      "Enter 5 numbers\n",
      "4\n",
      "Enter 5 numbers\n",
      "5\n",
      "Enter 5 numbers\n",
      "2\n",
      "Enter 5 numbers\n",
      "3\n",
      "Enter 5 numbers\n",
      "6\n",
      "Enter another number\n",
      "10\n",
      "10 not in the list\n"
     ]
    }
   ],
   "source": [
    "x_list = []\n",
    "i = 5\n",
    "while i >0:\n",
    "    print('Enter 5 numbers')\n",
    "    x = int(input())\n",
    "    x_list.append(x)\n",
    "    i -= 1\n",
    "print('Enter another number')\n",
    "y = int(input())\n",
    "if y in x_list:\n",
    "    print(y, \"in the list\")\n",
    "else:\n",
    "    print(y, 'not in the list')"
   ]
  },
  {
   "cell_type": "code",
   "execution_count": 17,
   "metadata": {},
   "outputs": [
    {
     "name": "stdout",
     "output_type": "stream",
     "text": [
      "No. of positive number: 5\n"
     ]
    }
   ],
   "source": [
    "x_list = [1,2,3,4,5]\n",
    "count_x = 0\n",
    "for x in x_list:\n",
    "    if x > 0:\n",
    "        count_x += 1\n",
    "print('No. of positive number:', count_x)"
   ]
  },
  {
   "cell_type": "code",
   "execution_count": 24,
   "metadata": {},
   "outputs": [
    {
     "name": "stdout",
     "output_type": "stream",
     "text": [
      "[5, 4, 3, 2, 1]\n",
      "[5, 4, 3, 2, 1]\n"
     ]
    }
   ],
   "source": [
    "x_list = [1,2,3,4,5]\n",
    "count_x = 0\n",
    "rev = x_list[-1::-1]\n",
    "print(rev)\n",
    "x_list.reverse()\n",
    "b = x_list\n",
    "print(x_list)"
   ]
  },
  {
   "cell_type": "code",
   "execution_count": 31,
   "metadata": {},
   "outputs": [
    {
     "name": "stdout",
     "output_type": "stream",
     "text": [
      "2\n",
      "17\n"
     ]
    }
   ],
   "source": [
    "a = 'This is orange juice'\n",
    "idx = a.rindex('i')\n",
    "idx1 = a.index('i')\n",
    "print(idx1)\n",
    "print(idx)"
   ]
  },
  {
   "cell_type": "code",
   "execution_count": 50,
   "metadata": {},
   "outputs": [
    {
     "name": "stdout",
     "output_type": "stream",
     "text": [
      "['Le', 'Thuy', 'Quynh']\n"
     ]
    }
   ],
   "source": [
    "a = 'Le Thuy Quynh'\n",
    "b = a.split(' ')\n",
    "print(b)"
   ]
  },
  {
   "cell_type": "code",
   "execution_count": 52,
   "metadata": {},
   "outputs": [
    {
     "name": "stdout",
     "output_type": "stream",
     "text": [
      "['L', 'T', 'Q']\n",
      "L . T . Quynh\n"
     ]
    }
   ],
   "source": [
    "c = [each for each in a if each.isupper()]\n",
    "print(c)\n",
    "print(c[0],'.',c[1],'.',b[2])"
   ]
  },
  {
   "cell_type": "code",
   "execution_count": 54,
   "metadata": {},
   "outputs": [
    {
     "name": "stdout",
     "output_type": "stream",
     "text": [
      "2\n",
      "1\n"
     ]
    }
   ],
   "source": [
    "a = \"This is umbrella\"\n",
    "b = a.count('i')\n",
    "print(b)\n",
    "c = a.count('e')\n",
    "print(c)"
   ]
  },
  {
   "cell_type": "code",
   "execution_count": 3,
   "metadata": {},
   "outputs": [
    {
     "name": "stdout",
     "output_type": "stream",
     "text": [
      "[1, 4, 9, 16, 25, 36, 49, 64]\n"
     ]
    }
   ],
   "source": [
    "l = [1,2,3,4,5,6,7,8]\n",
    "sq_l = []\n",
    "for each in l:\n",
    "      sq_l.append(each**2)\n",
    "print(sq_l)"
   ]
  },
  {
   "cell_type": "code",
   "execution_count": 6,
   "metadata": {},
   "outputs": [
    {
     "name": "stdout",
     "output_type": "stream",
     "text": [
      "[1, 3, 5, 7, 9, 11, 13, 15, 17, 19, 21, 23, 25, 27, 29, 31, 33, 35, 37, 39, 41, 43, 45, 47, 49, 51, 53, 55, 57, 59, 61, 63, 65, 67, 69, 71, 73, 75, 77, 79, 81, 83, 85, 87, 89, 91, 93, 95, 97, 99]\n",
      "[2, 4, 6, 8, 10, 12, 14, 16, 18, 20, 22, 24, 26, 28, 30, 32, 34, 36, 38, 40, 42, 44, 46, 48, 50, 52, 54, 56, 58, 60, 62, 64, 66, 68, 70, 72, 74, 76, 78, 80, 82, 84, 86, 88, 90, 92, 94, 96, 98, 100]\n"
     ]
    }
   ],
   "source": [
    "#Using range(1,101), make two list, one containing all even numbers and other containing all odd numbers.\n",
    "e_l = [x for x in range(1,101) if x%2 == False]\n",
    "o_l = [x for x in range(1,101) if x%2 == True]\n",
    "print(o_l)\n",
    "print(e_l)"
   ]
  },
  {
   "cell_type": "code",
   "execution_count": 1,
   "metadata": {},
   "outputs": [
    {
     "name": "stdout",
     "output_type": "stream",
     "text": [
      "{'apple pies': 1, 'apples': 7, 'cups': 10, 'ham sandwiches': 3, 'pretzels': 12}\n"
     ]
    }
   ],
   "source": [
    "import pprint\n",
    "allGuests = {'Alice': {'apples': 5, 'pretzels': 12},\n",
    "             'Bob': {'ham sandwiches': 3, 'apples': 2},\n",
    "             'Carol': {'cups': 10, 'apple pies': 1}}\n",
    "total_brought = {}\n",
    "for each in allGuests.values():\n",
    "    for value in each:\n",
    "        if value in total_brought:\n",
    "            total_brought[value] += each[value] \n",
    "        else:\n",
    "            total_brought[value] = each[value]\n",
    "pprint.pprint(total_brought)"
   ]
  },
  {
   "cell_type": "code",
   "execution_count": 6,
   "metadata": {},
   "outputs": [
    {
     "name": "stdout",
     "output_type": "stream",
     "text": [
      "cat\n"
     ]
    }
   ],
   "source": [
    "spam ={'cat':1}\n",
    "if 'cat' in spam.keys():\n",
    "    print('cat')"
   ]
  },
  {
   "cell_type": "code",
   "execution_count": 73,
   "metadata": {},
   "outputs": [
    {
     "name": "stdout",
     "output_type": "stream",
     "text": [
      "Inventory:\n",
      "1 rope\n",
      "6 torch\n",
      "42 gold coin\n",
      "10 dagger\n",
      "12 arrow\n",
      "Total number of items: 71\n"
     ]
    }
   ],
   "source": []
  },
  {
   "cell_type": "code",
   "execution_count": 49,
   "metadata": {},
   "outputs": [
    {
     "name": "stdout",
     "output_type": "stream",
     "text": [
      "Inventory:\n"
     ]
    },
    {
     "data": {
      "text/plain": [
       "'12 arrow'"
      ]
     },
     "execution_count": 49,
     "metadata": {},
     "output_type": "execute_result"
    }
   ],
   "source": []
  },
  {
   "cell_type": "code",
   "execution_count": 50,
   "metadata": {},
   "outputs": [
    {
     "name": "stdout",
     "output_type": "stream",
     "text": [
      "70\n"
     ]
    },
    {
     "ename": "TypeError",
     "evalue": "int() argument must be a string, a bytes-like object or a number, not 'NoneType'",
     "output_type": "error",
     "traceback": [
      "\u001b[1;31m---------------------------------------------------------------------------\u001b[0m",
      "\u001b[1;31mTypeError\u001b[0m                                 Traceback (most recent call last)",
      "\u001b[1;32m<ipython-input-50-995f6b3fc71a>\u001b[0m in \u001b[0;36m<module>\u001b[1;34m()\u001b[0m\n\u001b[0;32m      7\u001b[0m \u001b[0mnums\u001b[0m \u001b[1;33m=\u001b[0m \u001b[1;36m23\u001b[0m\u001b[1;33m\u001b[0m\u001b[0m\n\u001b[0;32m      8\u001b[0m \u001b[1;32mwhile\u001b[0m \u001b[0mnums\u001b[0m \u001b[1;33m!=\u001b[0m \u001b[1;36m1\u001b[0m\u001b[1;33m:\u001b[0m\u001b[1;33m\u001b[0m\u001b[0m\n\u001b[1;32m----> 9\u001b[1;33m     \u001b[0mnums\u001b[0m \u001b[1;33m=\u001b[0m \u001b[0mcollatz\u001b[0m\u001b[1;33m(\u001b[0m\u001b[0mint\u001b[0m\u001b[1;33m(\u001b[0m\u001b[0mnums\u001b[0m\u001b[1;33m)\u001b[0m\u001b[1;33m)\u001b[0m\u001b[1;33m\u001b[0m\u001b[0m\n\u001b[0m",
      "\u001b[1;31mTypeError\u001b[0m: int() argument must be a string, a bytes-like object or a number, not 'NoneType'"
     ]
    }
   ],
   "source": [
    "def collatz(number):\n",
    "    if number%2 == False:\n",
    "        print(number//2)\n",
    "    else:\n",
    "        print(3*number+1)\n",
    "\n",
    "nums = 23\n",
    "while nums != 1:\n",
    "    nums = collatz(int(nums))"
   ]
  },
  {
   "cell_type": "code",
   "execution_count": 64,
   "metadata": {},
   "outputs": [
    {
     "data": {
      "text/plain": [
       "'apples, bananas, tofu, and cats'"
      ]
     },
     "execution_count": 64,
     "metadata": {},
     "output_type": "execute_result"
    }
   ],
   "source": [
    "spam = ['apples', 'bananas', 'tofu', 'cats']\n",
    "def turnString(lists):\n",
    "    spam_1 = spam[:len(spam)-1]\n",
    "    string =''\n",
    "    for each in spam_1:\n",
    "        string += each+', '\n",
    "    return string+'and '+spam[-1]\n",
    "turnString(spam)"
   ]
  },
  {
   "cell_type": "code",
   "execution_count": 91,
   "metadata": {},
   "outputs": [
    {
     "name": "stdout",
     "output_type": "stream",
     "text": [
      "Inventory:\n",
      "45 gold coin\n",
      "1 rope\n",
      "1 torch\n",
      "1 dagger\n",
      "1 ruby\n",
      "Total number of items: 49\n"
     ]
    }
   ],
   "source": [
    "''' Fantasy Game Inventory - \n",
    "Automate the Boring stuff with Python\n",
    "'''\n",
    "def displayInventory(i):\n",
    "    print('Inventory:')\n",
    "    a = ''\n",
    "    for k, v in i.items():\n",
    "        a = str(v)+ \" \"+k\n",
    "        print(a)\n",
    "    print('Total number of items:',str(sum(i.values())))\n",
    "\n",
    "\n",
    "dragonLoot = ['gold coin', 'dagger', 'gold coin', \n",
    "              'gold coin', 'ruby']\n",
    "\n",
    "def addToInventory(inventory,addedItems):\n",
    "    for item in addedItems:\n",
    "        inventory[item] = inventory.get(item,0)+1\n",
    "    return inventory\n",
    "            \n",
    "inv = {'gold coin': 42, 'rope': 1, 'torch': 1}\n",
    "dragonLoot = ['gold coin', 'dagger', 'gold coin', 'gold coin', 'ruby']\n",
    "inv = addToInventory(inv, dragonLoot)\n",
    "displayInventory(inv)"
   ]
  },
  {
   "cell_type": "code",
   "execution_count": 52,
   "metadata": {},
   "outputs": [
    {
     "name": "stdout",
     "output_type": "stream",
     "text": [
      "    apples     Alice      dogs\n",
      "\n",
      "   oranges       Bob      cats\n",
      "\n",
      "  cherries     Carol     moose\n",
      "\n",
      "    banana     David     goose\n",
      "\n"
     ]
    }
   ],
   "source": [
    "tableData = [['apples', 'oranges', 'cherries', 'banana'],\n",
    "             ['Alice', 'Bob', 'Carol', 'David'],\n",
    "             ['dogs', 'cats', 'moose', 'goose']]\n",
    "def printTable(table):\n",
    "    for i in range(len(table[0])):\n",
    "        for j in range(len(table)):\n",
    "            a = table[j][i]\n",
    "            print(a.rjust(10),end='')\n",
    "        print(\"\\n\")\n",
    "printTable(tableData)\n"
   ]
  },
  {
   "cell_type": "code",
   "execution_count": 55,
   "metadata": {},
   "outputs": [
    {
     "name": "stdout",
     "output_type": "stream",
     "text": [
      "  apples Alice  dogs\n",
      " oranges   Bob  cats\n",
      "cherries Carol moose\n",
      "  banana David goose\n"
     ]
    }
   ],
   "source": [
    "tableData = [\n",
    "    ['apples', 'oranges', 'cherries', 'banana'],\n",
    "    ['Alice', 'Bob', 'Carol', 'David'],\n",
    "    ['dogs', 'cats', 'moose', 'goose']\n",
    "]\n",
    "\n",
    "col_widths = list()\n",
    "for i, record in enumerate(tableData):\n",
    "    col_widths.insert(i, max(len(item) for item in record))\n",
    "\n",
    "for i in range(len(tableData[0])):\n",
    "    print(' '.join(record[i].rjust(col_widths[j]) for j, record in enumerate(tableData)))"
   ]
  },
  {
   "cell_type": "code",
   "execution_count": 3,
   "metadata": {},
   "outputs": [
    {
     "name": "stdout",
     "output_type": "stream",
     "text": [
      "Batmobile\n"
     ]
    }
   ],
   "source": [
    "import re\n",
    "batRe = re.compile(r'Bat(man|mobile|copter|bat)')\n",
    "bat = batRe.search('Batmobile lost a wheel')\n",
    "print(bat.group())"
   ]
  },
  {
   "cell_type": "code",
   "execution_count": 5,
   "metadata": {},
   "outputs": [
    {
     "name": "stdout",
     "output_type": "stream",
     "text": [
      "X drummers, X pipers, five rings, X hens\n"
     ]
    }
   ],
   "source": [
    "import re\n",
    "numRe = re.compile(r'\\d+')\n",
    "num = numRe.sub('X','12 drummers, 11 pipers, five rings, 3 hens')\n",
    "print(num)"
   ]
  },
  {
   "cell_type": "code",
   "execution_count": 74,
   "metadata": {},
   "outputs": [
    {
     "name": "stdout",
     "output_type": "stream",
     "text": [
      "Alice Nakamoto\n"
     ]
    }
   ],
   "source": [
    "import re\n",
    "ncRe = re.compile(r'^[A-Z]\\w+\\sNakamoto')\n",
    "nc = ncRe.search('Alice Nakamoto')\n",
    "if nc == None:\n",
    "    print('not found')\n",
    "else:\n",
    "    print(nc.group())"
   ]
  },
  {
   "cell_type": "code",
   "execution_count": 90,
   "metadata": {},
   "outputs": [
    {
     "name": "stdout",
     "output_type": "stream",
     "text": [
      "[('Carol', 'throws', 'baseballs'), ('Alice', 'EATS', 'apples')]\n"
     ]
    }
   ],
   "source": [
    "import re\n",
    "fwRe = re.compile(r'''(Alice|Bob|Carol)\\s\n",
    "                  (eats|pets|throws|)\\s\n",
    "                  (apples|cats|baseballs)\\.''',re.VERBOSE|re.I)\n",
    "fw = fwRe.findall('Carol throws baseballs. Alice EATS apples. Bob')\n",
    "if fw == None:\n",
    "    print('not found')\n",
    "else:\n",
    "    print(fw)\n",
    "                  "
   ]
  },
  {
   "cell_type": "code",
   "execution_count": 13,
   "metadata": {},
   "outputs": [
    {
     "data": {
      "text/plain": [
       "'password needs to be at least 8 characters long'"
      ]
     },
     "execution_count": 13,
     "metadata": {},
     "output_type": "execute_result"
    }
   ],
   "source": [
    "import re\n",
    "def testPass(password):\n",
    "    if len(password) < 8:\n",
    "        return (\"password needs to be at least 8 characters long\")# test passwords with at least 8 characters\n",
    "    passL = re.compile(r'[a-z]+')\n",
    "    passU = re.compile(r'[A-Z]+')\n",
    "    passD = re.compile(r'\\d+')\n",
    "    if not passL.search(password):\n",
    "        return ('password needs lowercase characters')\n",
    "    if passU.search(password) == None:\n",
    "        return ('password needs uppercase characters')\n",
    "    if passD.search(password) == None:\n",
    "        return ('password needs at lease 1 digit')\n",
    "    return 'Password is strong'\n",
    "\n",
    "testPass('tT1TTT')\n",
    "\n"
   ]
  },
  {
   "cell_type": "code",
   "execution_count": 94,
   "metadata": {},
   "outputs": [
    {
     "data": {
      "text/plain": [
       "'I have 1 cat and 32 dogs'"
      ]
     },
     "execution_count": 94,
     "metadata": {},
     "output_type": "execute_result"
    }
   ],
   "source": [
    "'''Regex Version of strip()\n",
    "Write a function that takes a string and does the same thing as the strip() string method. \n",
    "If no other arguments are passed other than the string to strip, \n",
    "then whitespace characters will be removed from the beginning and end of the string. \n",
    "Otherwise, the characters specified in the second argument to the function \n",
    "will be removed from the string.'''\n",
    "import re\n",
    "def Sstrip(string,y =\"\"):\n",
    "    if y == \"\":\n",
    "        checkRe = re.compile(r'^(\\s+)?|(\\s+$)?')\n",
    "        check = checkRe.sub(\"\",string)\n",
    "        return(check)\n",
    "    else:    \n",
    "        checkRe = re.compile(str(y))\n",
    "        check = checkRe.sub(\"\",string)\n",
    "        return(check)\n",
    "        \n",
    "Sstrip('       I have 1 cat and 32 dogs    ',)"
   ]
  },
  {
   "cell_type": "code",
   "execution_count": 91,
   "metadata": {},
   "outputs": [
    {
     "data": {
      "text/plain": [
       "'       I have 1 cat and 32 dog    '"
      ]
     },
     "execution_count": 91,
     "metadata": {},
     "output_type": "execute_result"
    }
   ],
   "source": [
    "Sstrip('       sssI have 1 cat and 32 dogsssss    ',\"s\")"
   ]
  },
  {
   "cell_type": "code",
   "execution_count": 92,
   "metadata": {},
   "outputs": [
    {
     "data": {
      "text/plain": [
       "'Hello world'"
      ]
     },
     "execution_count": 92,
     "metadata": {},
     "output_type": "execute_result"
    }
   ],
   "source": [
    "Sstrip('spmaHello worldspma','spma')"
   ]
  },
  {
   "cell_type": "code",
   "execution_count": 89,
   "metadata": {},
   "outputs": [
    {
     "data": {
      "text/plain": [
       "'216.8.94.196'"
      ]
     },
     "execution_count": 89,
     "metadata": {},
     "output_type": "execute_result"
    }
   ],
   "source": [
    "import re\n",
    "def check(string):\n",
    "    stringL = re.compile(r'0*')\n",
    "    if not stringL.search(string):\n",
    "        return False\n",
    "    return stringL.sub('', string)\n",
    "check('216.08.094.196')"
   ]
  },
  {
   "cell_type": "code",
   "execution_count": 90,
   "metadata": {},
   "outputs": [
    {
     "name": "stdout",
     "output_type": "stream",
     "text": [
      "216.8.94.196\n"
     ]
    }
   ],
   "source": [
    "import re\n",
    "print(re.sub('0*',\"\",'216.08.094.196'))"
   ]
  },
  {
   "cell_type": "code",
   "execution_count": 176,
   "metadata": {},
   "outputs": [
    {
     "name": "stdout",
     "output_type": "stream",
     "text": [
      "Have 'dog' in 'The quick brown fox jumps over the lazy dog'\n",
      "Have 'fox' in 'The quick brown fox jumps over the lazy dog'\n"
     ]
    }
   ],
   "source": [
    "import re\n",
    "def check(string,*args):\n",
    "    text_list = [*args]\n",
    "    for x in text_list:\n",
    "        stringL = re.compile(x)\n",
    "        if not stringL.search(string):\n",
    "            return False\n",
    "        return (\"Have '%s' in '%s'\" %(stringL.search(string).group(),string))\n",
    "check('The quick brown fox jumps over the lazy dog','dog')"
   ]
  },
  {
   "cell_type": "code",
   "execution_count": 189,
   "metadata": {},
   "outputs": [
    {
     "data": {
      "text/plain": [
       "('quick', 4, 9)"
      ]
     },
     "execution_count": 189,
     "metadata": {},
     "output_type": "execute_result"
    }
   ],
   "source": [
    "import re\n",
    "def check(string,text):\n",
    "    text_list = [text]\n",
    "    for x in text_list:\n",
    "        stringL = re.compile(x)\n",
    "        if not stringL.search(string):\n",
    "            return False\n",
    "        return stringL.search(string).group(),stringL.search(string).start(),stringL.search(string).end()\n",
    "check('The quick brown fox jumps over the lazy dog','quick')"
   ]
  },
  {
   "cell_type": "code",
   "execution_count": 181,
   "metadata": {},
   "outputs": [
    {
     "name": "stdout",
     "output_type": "stream",
     "text": [
      "10\n"
     ]
    }
   ],
   "source": [
    "print(\"the quick one\".index('one'))"
   ]
  },
  {
   "cell_type": "code",
   "execution_count": 32,
   "metadata": {},
   "outputs": [
    {
     "data": {
      "text/plain": [
       "'01-02-2008'"
      ]
     },
     "execution_count": 32,
     "metadata": {},
     "output_type": "execute_result"
    }
   ],
   "source": [
    "x = '2008-02-01'\n",
    "def convertDate(x):\n",
    "    x_list = x.split('-')\n",
    "    a,b,c = x_list\n",
    "    return c+'-'+b+'-'+a\n",
    "convertDate(x)"
   ]
  },
  {
   "cell_type": "code",
   "execution_count": 28,
   "metadata": {},
   "outputs": [
    {
     "name": "stdout",
     "output_type": "stream",
     "text": [
      "PfkdPn Psqgn\n"
     ]
    }
   ],
   "source": [
    "import re\n",
    "word = re.compile(r'P\\w* P\\w*')\n",
    "lists = ['PfkdPn Psqgn','sfdfa PfkdPn Psqgn pppp','crazy P']\n",
    "for each in lists:\n",
    "    words = word.match(each)\n",
    "    if words: # if the match function has a result differ from None\n",
    "        print(words.group())"
   ]
  },
  {
   "cell_type": "code",
   "execution_count": 59,
   "metadata": {},
   "outputs": [
    {
     "name": "stdout",
     "output_type": "stream",
     "text": [
      "0\n",
      "12\n",
      "14\n",
      "17\n"
     ]
    },
    {
     "data": {
      "text/plain": [
       "['24747', '5', '57', '09']"
      ]
     },
     "execution_count": 59,
     "metadata": {},
     "output_type": "execute_result"
    }
   ],
   "source": [
    "import re\n",
    "def numPrint(string):\n",
    "    num = re.finditer(r'\\d+',string)\n",
    "    m = []\n",
    "    for each in num:\n",
    "        m.append(each.group())\n",
    "        print(each.start()) # position of the searched items\n",
    "    return m # lists of the search item\n",
    "numPrint('24747 crazy 5 57 09')"
   ]
  },
  {
   "cell_type": "code",
   "execution_count": 72,
   "metadata": {},
   "outputs": [
    {
     "name": "stdout",
     "output_type": "stream",
     "text": [
      "fathe\n"
     ]
    }
   ],
   "source": [
    "import re\n",
    "rep = re.search(r'\\b\\w{5}\\b','I am on Rd Washington, my mom is on Rd 14 my fathe in on Rd 24.')\n",
    "print(rep.group())"
   ]
  },
  {
   "cell_type": "code",
   "execution_count": 8,
   "metadata": {},
   "outputs": [
    {
     "data": {
      "text/plain": [
       "'C:\\\\Users\\\\thuyquynh.le'"
      ]
     },
     "execution_count": 8,
     "metadata": {},
     "output_type": "execute_result"
    }
   ],
   "source": [
    "import os\n",
    "os.path.abspath('.')\n",
    "os.path.abspath('.\\\\Scripts')\n",
    "os.path.isabs('.')\n",
    "os.path.relpath('C:\\\\Window','C:\\\\')\n",
    "os.getcwd()"
   ]
  },
  {
   "cell_type": "code",
   "execution_count": 11,
   "metadata": {},
   "outputs": [
    {
     "data": {
      "text/plain": [
       "['C:', 'Windows', 'System32', 'calc.exe']"
      ]
     },
     "execution_count": 11,
     "metadata": {},
     "output_type": "execute_result"
    }
   ],
   "source": [
    "calcFilePath = 'C:\\\\Windows\\\\System32\\\\calc.exe'\n",
    "os.path.split(calcFilePath)\n",
    "calcFilePath.split(os.path.sep)"
   ]
  },
  {
   "cell_type": "code",
   "execution_count": 22,
   "metadata": {},
   "outputs": [
    {
     "name": "stdout",
     "output_type": "stream",
     "text": [
      "201289714\n"
     ]
    }
   ],
   "source": [
    "f = os.path.getsize('C:\\\\Users\\\\thuyquynh.le\\\\Downloads\\\\Music\\\\IslandSongAdventureTimeEnding-Dang_42d56.mp3')\n",
    "l = os.listdir('C:\\\\Users\\\\thuyquynh.le\\\\Downloads\\\\Music')\n",
    "totalSize = 0\n",
    "for e in l:\n",
    "    totalSize += os.path.getsize('C:\\\\Users\\\\thuyquynh.le\\\\Downloads\\\\Music\\\\%s' % e)\n",
    "print(totalSize)    "
   ]
  },
  {
   "cell_type": "code",
   "execution_count": 26,
   "metadata": {},
   "outputs": [
    {
     "data": {
      "text/plain": [
       "False"
      ]
     },
     "execution_count": 26,
     "metadata": {},
     "output_type": "execute_result"
    }
   ],
   "source": [
    "os.path.exists('C:\\\\Windows')\n",
    "os.path.exists('C:\\\\some_made_up_folder')\n",
    "os.path.isdir('C:\\\\Windows\\\\System32')\n",
    "os.path.isfile('C:\\\\Windows\\\\System32')"
   ]
  },
  {
   "cell_type": "code",
   "execution_count": 33,
   "metadata": {},
   "outputs": [
    {
     "name": "stdout",
     "output_type": "stream",
     "text": [
      "Hello world!\n",
      "[\"When, in disgrace with fortune and men's eyes,\\n\", 'I all alone beweep my outcast state,\\n', 'And trouble deaf heaven with my bootless cries,\\n', 'And look upon myself and curse my fate,']\n"
     ]
    }
   ],
   "source": [
    "helloFile = open('C:\\\\Users\\\\thuyquynh.le\\\\hello.txt')\n",
    "helloContent = helloFile.read()\n",
    "print(helloContent)\n",
    "sonnet = open('C:\\\\Users\\\\thuyquynh.le\\\\sonnet29.txt').readlines()\n",
    "print(sonnet)"
   ]
  },
  {
   "cell_type": "code",
   "execution_count": 44,
   "metadata": {},
   "outputs": [
    {
     "name": "stdout",
     "output_type": "stream",
     "text": [
      "Hello world!\n",
      "Bacon is not a vegetable.\n"
     ]
    }
   ],
   "source": [
    "baconFile = open('bacon.txt','w')\n",
    "baconFile.write(\"Hello world!\\n\")\n",
    "baconFile.close()\n",
    "baconFile = open('bacon.txt','a')\n",
    "baconFile.write('Bacon is not a vegetable.')\n",
    "baconFile.close()\n",
    "baconFile = open('bacon.txt').read()\n",
    "print(baconFile)"
   ]
  },
  {
   "cell_type": "code",
   "execution_count": 1,
   "metadata": {},
   "outputs": [
    {
     "data": {
      "text/plain": [
       "[['Zophie', 'Pooka', 'Simon']]"
      ]
     },
     "execution_count": 1,
     "metadata": {},
     "output_type": "execute_result"
    }
   ],
   "source": [
    "import shelve as sh\n",
    "shFile = sh.open('mydata')\n",
    "cats = ['Zophie', 'Pooka', 'Simon']\n",
    "shFile['cats'] = cats\n",
    "shFile.close()\n",
    "\n",
    "shFile = sh.open('mydata')\n",
    "type(shFile)\n",
    "shFile['cats']\n",
    "shFile.close()\n",
    "\n",
    "shFile = sh.open('mydata')\n",
    "list(shFile.keys())\n",
    "list(shFile.values())"
   ]
  },
  {
   "cell_type": "code",
   "execution_count": 61,
   "metadata": {},
   "outputs": [],
   "source": [
    "import pprint\n",
    "cats = [{'name': 'Zophie', 'desc': 'chubby'}, {'name': 'Pooka', 'desc': 'fluffy'}]\n",
    "pprint.pformat(cats)\n",
    "myCats = open('mycats.py','w')\n",
    "myCats.write('cats = '+pprint.pformat(cats)+'\\n')\n",
    "myCats.close()"
   ]
  },
  {
   "cell_type": "code",
   "execution_count": 67,
   "metadata": {},
   "outputs": [
    {
     "data": {
      "text/plain": [
       "[{'name': 'Zophie', 'desc': 'chubby'}, {'name': 'Pooka', 'desc': 'fluffy'}]"
      ]
     },
     "execution_count": 67,
     "metadata": {},
     "output_type": "execute_result"
    }
   ],
   "source": [
    "cats"
   ]
  },
  {
   "cell_type": "code",
   "execution_count": 18,
   "metadata": {},
   "outputs": [
    {
     "name": "stdout",
     "output_type": "stream",
     "text": [
      "Please enter your Regex: Hello\n",
      "Hello check.txt has Hello\n",
      "Hello.txt has Hello\n",
      "not fun.txt don't have Hello\n",
      "Trial.txt has Hello\n"
     ]
    }
   ],
   "source": [
    "'''Regex Search\n",
    "Write a program that opens all .txt files in a folder and searches for \n",
    "any line that matches a user-supplied regular expression. \n",
    "The results should be printed to the screen.\n",
    "'''\n",
    "import re\n",
    "import os\n",
    "UserRegex = str(input('Please enter your Regex: '))\n",
    "for e in os.listdir('D:\\Quynh\\Python\\Coding files\\Check'):\n",
    "    readFile = open('D:\\Quynh\\Python\\Coding files\\Check\\%s' % e).read()\n",
    "    userRe = re.search(UserRegex,readFile)\n",
    "    if userRe != None:\n",
    "        r = userRe.group()\n",
    "    else:\n",
    "        print(\"%s don't have %s\" %(e, UserRegex))\n",
    "        continue\n",
    "    print('%s has %s' %(e, r))"
   ]
  },
  {
   "cell_type": "code",
   "execution_count": 12,
   "metadata": {},
   "outputs": [
    {
     "data": {
      "text/plain": [
       "'C:\\\\Users\\\\thuyquynh.le\\\\Music\\\\sonnet29.txt'"
      ]
     },
     "execution_count": 12,
     "metadata": {},
     "output_type": "execute_result"
    }
   ],
   "source": [
    "import shutil, os\n",
    "shutil.copy('C:\\\\Users\\\\thuyquynh.le\\\\sonnet29.txt','C:\\\\Users\\\\thuyquynh.le\\\\Music')"
   ]
  },
  {
   "cell_type": "code",
   "execution_count": 69,
   "metadata": {},
   "outputs": [
    {
     "name": "stdout",
     "output_type": "stream",
     "text": [
      "Renaming D:\\Quynh\\Python\\Coding files\\ChangeDate\\Book1-02-04-02-2016-copy.xlsx to D:\\Quynh\\Python\\Coding files\\ChangeDate\\ChangetoEuro\\Book1-02-02-04-2016-copy.xlsx\n",
      "Renaming D:\\Quynh\\Python\\Coding files\\ChangeDate\\Book1-02-10-14-1998 Copy (6).xlsx to D:\\Quynh\\Python\\Coding files\\ChangeDate\\ChangetoEuro\\Book1-02-14-10-1998 Copy (6).xlsx\n",
      "Renaming D:\\Quynh\\Python\\Coding files\\ChangeDate\\Book1-03-25-1979.Copy (5).xlsx to D:\\Quynh\\Python\\Coding files\\ChangeDate\\ChangetoEuro\\Book1-25-03-1979.Copy (5).xlsx\n",
      "Renaming D:\\Quynh\\Python\\Coding files\\ChangeDate\\Book1-05-31-1997 Copy (3).xlsx to D:\\Quynh\\Python\\Coding files\\ChangeDate\\ChangetoEuro\\Book1-31-05-1997 Copy (3).xlsx\n",
      "Renaming D:\\Quynh\\Python\\Coding files\\ChangeDate\\Book1-12-24-2018-copy (4).xlsx to D:\\Quynh\\Python\\Coding files\\ChangeDate\\ChangetoEuro\\Book1-24-12-2018-copy (4).xlsx\n"
     ]
    }
   ],
   "source": [
    "''' Project: Renaming Files with American-Style Dates to European-Style Dates\n",
    "Say your boss emails you thousands of files with American-style dates (MM-DD-YYYY) \n",
    "in their names and needs them renamed to European-style dates (DD-MM-YYYY). \n",
    "This boring task could take all day to do by hand! \n",
    "Let’s write a program to do it instead.\n",
    "\n",
    "Here’s what the program does:\n",
    "It searches all the filenames in the current working directory for \n",
    "American-style dates.\n",
    "When one is found, it renames the file with the month and day \n",
    "swapped to make it European-style.'''\n",
    "\n",
    "import re, os, shutil, send2trash\n",
    "date = re.compile(r'''^(.*?) #all text before date\n",
    "((0|1)?\\d)-                  # month\n",
    "(([0-3])?\\d)-                # day\n",
    "((19|20)\\d{2})               # year\n",
    "(.*)?                        # text after date\n",
    "''', re.VERBOSE)\n",
    "\n",
    "   # TODO: Loop over the files in the working directory.\n",
    "for amerFileName in os.listdir('D:\\Quynh\\Python\\Coding files\\ChangeDate'):\n",
    "    mo = date.search(amerFileName)\n",
    "    if mo == None: # TODO: Skip files without a date.\n",
    "        continue\n",
    "   # TODO: Get the different parts of the filename.\n",
    "    beforeDate = mo.group(1)\n",
    "    month      = mo.group(2)\n",
    "    day        = mo.group(4)\n",
    "    year       = mo.group(6)\n",
    "    afterDate  = mo.group(8)\n",
    "   # TODO: Form the European-style filename.\n",
    "    euroFileName = beforeDate+day+'-'+month+'-'+year+afterDate\n",
    "   # TODO: Get the full, absolute file paths.\n",
    "    amerFile = os.path.join('D:\\\\Quynh\\\\Python\\\\Coding files\\\\ChangeDate',amerFileName)\n",
    "    euroFile = os.path.join('D:\\\\Quynh\\\\Python\\\\Coding files\\\\ChangeDate\\\\ChangetoEuro',euroFileName)\n",
    "   # TODO: Rename the files.\n",
    "    print('Renaming %s to %s' % (amerFile, euroFile)) # testing \n",
    "    #shutil.copy(amerFile, euroFile) # uncomment after testing, can use shutil.move() but this will delete"
   ]
  },
  {
   "cell_type": "code",
   "execution_count": 278,
   "metadata": {},
   "outputs": [],
   "source": [
    "'''Selective Copy\n",
    "Write a program that walks through a folder tree and searches for files \n",
    "with a certain file extension (such as .pdf or .jpg). \n",
    "Copy these files from whatever location they are in to a new folder'''\n",
    "import os, shutil\n",
    "def selectiveCopy(folderTree, fileExt,newFolder='New folder'):\n",
    "    os.chdir(folderTree)\n",
    "    newPath = os.path.join('..', newFolder) # the new folder is created in the same parent folder as the folder tree\n",
    "    #print(newPath)\n",
    "    if not os.path.exists(newPath):\n",
    "        os.makedirs(newPath) # create the new folder if it doesnt exist\n",
    "    for folderName, subFolder, fileName in os.walk(folderTree):\n",
    "        for each in fileName:\n",
    "            oldPath = os.path.join(folderName, each)\n",
    "            #print(fileOld)\n",
    "            if each.endswith(fileExt):\n",
    "                #print('Copying %s to %s' %(oldPath, newPath)) # testing\n",
    "                shutil.copy(oldPath, newPath) # uncomment after testing\n",
    "\n",
    "selectiveCopy('D:\\\\Quynh\\\\Python\\\\Coding files\\\\Seletive copy\\\\Folder to copy','.txt')"
   ]
  },
  {
   "cell_type": "code",
   "execution_count": 274,
   "metadata": {},
   "outputs": [],
   "source": [
    "import send2trash\n",
    "send2trash.send2trash('D:\\\\Quynh\\\\Python\\\\Coding files\\\\Seletive copy\\\\New folder')"
   ]
  },
  {
   "cell_type": "code",
   "execution_count": 313,
   "metadata": {
    "scrolled": false
   },
   "outputs": [
    {
     "name": "stdout",
     "output_type": "stream",
     "text": [
      "C:\\Users\\thuyquynh.le\\Downloads\\01-Introduction.pdf\n",
      "C:\\Users\\thuyquynh.le\\Downloads\\(batch)_Sword Art Online Light Novels\\(batch)_Sword Art Online Light Novels.7z\n",
      "C:\\Users\\thuyquynh.le\\Downloads\\(batch)_Sword Art Online Light Novels\\Sword Art Online Volume 17 - Alicization Awakening.pdf\n",
      "C:\\Users\\thuyquynh.le\\Downloads\\Microsoft.SkypeApp_kzf8qxf38zg5c!App\\All\\Bravo installation\\_Output.zip\n",
      "C:\\Users\\thuyquynh.le\\Downloads\\Music\\Bao gio lay chong - Bich Phuong.mp4\n",
      "C:\\Users\\thuyquynh.le\\Downloads\\Music\\The Greatest Showman\\01. The Greatest Showman Ensemble - The Greatest Show.mp3\n",
      "C:\\Users\\thuyquynh.le\\Downloads\\Music\\The Greatest Showman\\02. Ziv Zaifman, Hugh Jackman & Michelle Williams - A Million Dreams.mp3\n",
      "C:\\Users\\thuyquynh.le\\Downloads\\Music\\The Greatest Showman\\11. Hugh Jackman & The Greatest Showman Ensemble - From Now On.mp3\n",
      "C:\\Users\\thuyquynh.le\\Downloads\\Music\\The Greatest Showman\\TheGreatestShowman.zip\n"
     ]
    }
   ],
   "source": [
    "'''Deleting Unneeded Files\n",
    "It’s not uncommon for a few unneeded but humongous files or folders to take up \n",
    "the bulk of the space on your hard drive. If you’re trying to free up room \n",
    "on your computer, you’ll get the most bang for your buck by deleting \n",
    "the most massive of the unwanted files. But first you have to find them.\n",
    "\n",
    "Write a program that walks through a folder tree and searches for exceptionally\n",
    "large files or folders—say, ones that have a file size of more than 100MB. \n",
    "(Remember, to get a file’s size, you can use os.path.getsize())\n",
    "Print these files with their absolute path to the screen'''\n",
    "\n",
    "import os\n",
    "def printLFile(folderTree):\n",
    "    for folderName, subFolder, fileName in os.walk(folderTree):\n",
    "        for each in fileName: \n",
    "            fileS = os.path.getsize(os.path.join(folderName, each)) #search for large files/folders\n",
    "            if fileS >= 10000000: #file size > 10MB\n",
    "                #print(fileS)\n",
    "                print(os.path.join(folderName,each))\n",
    "\n",
    "printLFile(\"C:\\\\Users\\\\thuyquynh.le\\\\Downloads\")"
   ]
  },
  {
   "cell_type": "code",
   "execution_count": 397,
   "metadata": {},
   "outputs": [
    {
     "name": "stdout",
     "output_type": "stream",
     "text": [
      "renaming D:\\Quynh\\Python\\Coding files\\Filling in the gaps\\Hello -002.txt to D:\\Quynh\\Python\\Coding files\\Filling in the gaps\\Hello -001\n",
      "renaming D:\\Quynh\\Python\\Coding files\\Filling in the gaps\\Hello -004.txt to D:\\Quynh\\Python\\Coding files\\Filling in the gaps\\Hello -002\n",
      "renaming D:\\Quynh\\Python\\Coding files\\Filling in the gaps\\Hello -006.txt to D:\\Quynh\\Python\\Coding files\\Filling in the gaps\\Hello -003\n",
      "renaming D:\\Quynh\\Python\\Coding files\\Filling in the gaps\\Hello -009.txt to D:\\Quynh\\Python\\Coding files\\Filling in the gaps\\Hello -004\n"
     ]
    }
   ],
   "source": [
    "'''Filling in the Gaps\n",
    "Write a program that finds all files with a given prefix, such as spam001.txt, \n",
    "spam002.txt, and so on, in a single folder and locates any gaps in the numbering\n",
    "(such as if there is a spam001.txt and spam003.txt but no spam002.txt). \n",
    "Have the program rename all the later files to close this gap.'''\n",
    "import os, shutil\n",
    "def fillGaps(folder, prefix):\n",
    "    i = 1\n",
    "    c = []\n",
    "    for file in os.listdir(folder):\n",
    "        #print(file)\n",
    "        absPath = os.path.abspath(folder)\n",
    "        #print(absPath)\n",
    "        if file.startswith(prefix):\n",
    "            cfile = file\n",
    "            #print(cfile)\n",
    "            c.append(cfile)\n",
    "            #print(c)\n",
    "        while i < len(c):\n",
    "            xfile = os.path.join(absPath, prefix+str(i))\n",
    "            i += 1 \n",
    "            #print(xfile) \n",
    "            print('renaming %s to %s' % (os.path.join(folder, cfile), xfile)) \n",
    "    \n",
    "            \n",
    "\n",
    "'''find all files with given prefix = startwith()'''\n",
    "'''locate gaps in numbering = for loop i + 1'''\n",
    "'''rename all files to close the gap'''\n",
    "\n",
    "fillGaps('D:\\Quynh\\Python\\Coding files\\Filling in the gaps','Hello -00')\n",
    "\n",
    "\n"
   ]
  },
  {
   "cell_type": "code",
   "execution_count": 398,
   "metadata": {},
   "outputs": [
    {
     "data": {
      "text/plain": [
       "'add more'"
      ]
     },
     "execution_count": 398,
     "metadata": {},
     "output_type": "execute_result"
    }
   ],
   "source": [
    "'''add more'''"
   ]
  },
  {
   "cell_type": "code",
   "execution_count": null,
   "metadata": {},
   "outputs": [],
   "source": []
  }
 ],
 "metadata": {
  "kernelspec": {
   "display_name": "Python 3",
   "language": "python",
   "name": "python3"
  },
  "language_info": {
   "codemirror_mode": {
    "name": "ipython",
    "version": 3
   },
   "file_extension": ".py",
   "mimetype": "text/x-python",
   "name": "python",
   "nbconvert_exporter": "python",
   "pygments_lexer": "ipython3",
   "version": "3.7.0"
  }
 },
 "nbformat": 4,
 "nbformat_minor": 2
}
